{
 "cells": [
  {
   "cell_type": "markdown",
   "metadata": {},
   "source": [
    "Copyright (c) Microsoft Corporation. All rights reserved.\n",
    "\n",
    "Licensed under the MIT License."
   ]
  },
  {
   "cell_type": "markdown",
   "metadata": {},
   "source": [
    "# Develop your own Azure Machine Learning component using component CLI & dsl.component\n",
    "\n",
    "In this notebook, you learn how to create a simple machine learning component from scratch and use it in an ML pipeline.\n",
    "\n",
    "* Init a component from an existing python script with component cli;\n",
    "* Run local test(optional), to make sure the code works correctly;\n",
    "* Register the component to your Machine learning workspace;\n",
    "\n"
   ]
  },
  {
   "cell_type": "markdown",
   "metadata": {},
   "source": [
    "## Prerequisites\n",
    "* Install azure cli with azure-cli-ml extension following the [instructions here](setup-environment.ipynb).\n"
   ]
  },
  {
   "cell_type": "markdown",
   "metadata": {},
   "source": [
    "## Setup workspace\n",
    "\n",
    "Login to azure with cli and set the default workspace using `az ml folder attach` command.\n",
    "\n",
    "After this operation, the workspace could be retrived with the `Workspace.from_config()` for SDK usage."
   ]
  },
  {
   "cell_type": "code",
   "execution_count": null,
   "metadata": {},
   "outputs": [],
   "source": [
    "# NOTE: Update the following information with your environment\n",
    "\n",
    "SUBSCRIPTION_ID = '<your subscription ID>'\n",
    "WORKSPACE_NAME = '<your workspace name>'\n",
    "RESOURCE_GROUP_NAME = '<your resource group>'"
   ]
  },
  {
   "cell_type": "code",
   "execution_count": null,
   "metadata": {},
   "outputs": [],
   "source": [
    "!az login -o none # When the first time you use az cli, you need to login to make sure you could access you sub and workspace\n",
    "!az account set -s $SUBSCRIPTION_ID \n",
    "!az ml folder attach -w $WORKSPACE_NAME -g $RESOURCE_GROUP_NAME "
   ]
  },
  {
   "cell_type": "code",
   "execution_count": null,
   "metadata": {
    "tags": []
   },
   "outputs": [],
   "source": [
    "from azureml.core import Workspace\n",
    "\n",
    "ws = Workspace.from_config()"
   ]
  },
  {
   "cell_type": "markdown",
   "metadata": {},
   "source": [
    "## Init a component with an existing python script\n",
    "\n",
    "We will init a component from an existing python script with azureml cli. The script is in [components/creation/prepare_data](components/creation/prepare_data). Print the script to see what's in it."
   ]
  },
  {
   "cell_type": "code",
   "execution_count": null,
   "metadata": {},
   "outputs": [],
   "source": [
    "with open('components/creation/prepare_data/prepare_data.py') as fin:\n",
    "    print(fin.read())"
   ]
  },
  {
   "cell_type": "markdown",
   "metadata": {},
   "source": [
    "Now init a dsl component with `az ml component init` command. In following cell, `--source` defines the source script (need to parse command-line arguments with argparse) to initalize the dsl component from, `--inputs/outputs` defines the input and output from the source script's argparse parameters, `source-dir` defines the source directory to generate the initalized files, `--entry-only` defines it only generate the entry script.\n",
    "\n",
    "Run `az ml component init --help` to learn more how to use this command. "
   ]
  },
  {
   "cell_type": "code",
   "execution_count": null,
   "metadata": {
    "tags": []
   },
   "outputs": [],
   "source": [
    "!az ml component init --source prepare_data.py --inputs input_data --outputs output_data --source-dir components/creation/prepare_data --entry-only"
   ]
  },
  {
   "cell_type": "markdown",
   "metadata": {},
   "source": [
    "Note: This toturial run `az ml component init` command with `--entry-only` arugment, which means it will only generate the entry file. Without `--entry-only`, following files will be generated to help component development/test. \n",
    "\n",
    "|File name|Purpose|\n",
    "| -----------| ----------- |\n",
    "|prepare_data_entry.py|component entry script wrapped by dsl component decorator, which defines the interface and main logic of the component|\n",
    "|prepare_data.spec.yaml|component spec in yaml format, use it to register the component|\n",
    "|conda.yaml|YAML file that manages conda environment. It's refferneced by component yaml sepc|\n",
    "|prepare_data_entry.test.ipynb| Test notebook for this component. It contains sample code on how to test the component|\n",
    "|config.json|A blank AML workspace config.josn file. Copy your AML workspace config here|\n",
    "|./tests|The template test folder. It contains a template unit test script for the component.|\n",
    "|./data|The placeholder data folder to put local test data.|\n",
    "\n",
    "\n",
    "The `az ml init --source` required source script parse the command-line using argparse. If your script is not written by argparse, we suggest to init a template dsl component (by not defining source), and edit the component script manually. "
   ]
  },
  {
   "cell_type": "markdown",
   "metadata": {},
   "source": [
    "Print the generated component entry file"
   ]
  },
  {
   "cell_type": "code",
   "execution_count": null,
   "metadata": {
    "tags": []
   },
   "outputs": [],
   "source": [
    "with open('components/creation/prepare_data/prepare_data_entry.py') as fin:\n",
    "    print(fin.read())"
   ]
  },
  {
   "cell_type": "markdown",
   "metadata": {},
   "source": [
    "For this toturial, the inialized entry script parse all component arguments correctly, so there is no need to further edit the entry script. For a different component, you may adjust the entry script in following parts:\n",
    "\n",
    "* Put the meta information in `@dsl.component()`, see [component spec](https://aka.ms/azureml-component-specs) for more details;\n",
    "* Adjust the function args to indicate the component interface, use InputFile/InputDirectory/OutputFile/OutputDirectory to indicate the input/output, others are parameters;\n",
    "* Adjust the logic in function body, this is the main logic for the component;\n",
    "\n",
    "In AzureML, the script is executed with command line args, in the main part, we call \"componentExecutor(prepare_data).execute(sys.argv)\" to parse the command line to function args and pass the args to the function.\n",
    "Thus we cannot change this line to make sure the component runs correctly in AzureML."
   ]
  },
  {
   "cell_type": "markdown",
   "metadata": {},
   "source": [
    "## Run the component in local \n",
    "\n",
    "After we developed the component, to ensure it works correctly, we could load this component and run the component in local.\n",
    "\n",
    "`component.from_func` can load a component from a Python fucntion. \n",
    "`component.from_yaml` can load a component object from yaml spec. \n",
    "\n",
    "This two methods are designed for load component quickly for test purpose."
   ]
  },
  {
   "cell_type": "code",
   "execution_count": null,
   "metadata": {
    "tags": []
   },
   "outputs": [],
   "source": [
    "from azureml.pipeline.wrapper import component\n",
    "import sys\n",
    "sys.path.insert(0, 'components/creation/prepare_data/')  # This line adds components/prepare_data to your path so you could import it.\n",
    "from prepare_data_entry import prepare_data\n",
    "\n",
    "prepare_component_func = component.from_func(ws, prepare_data)\n",
    "help(prepare_component_func)"
   ]
  },
  {
   "cell_type": "markdown",
   "metadata": {},
   "source": [
    "Run the component with local test data.`component.run` support both run the component with local python environment, or with local container, configured by `use_docker` parameter. Note that in component entry script the input type is InputDirectory, so here pass a direcotry for local test. "
   ]
  },
  {
   "cell_type": "code",
   "execution_count": null,
   "metadata": {
    "tags": []
   },
   "outputs": [],
   "source": [
    "local_sample = 'components/creation/prepare_data_small_input'\n",
    "component = prepare_component_func(input_data=local_sample)\n",
    "component.run(experiment_name='prepare_data_local_run', use_docker=False, track_run_history=True)"
   ]
  },
  {
   "cell_type": "markdown",
   "metadata": {},
   "source": [
    "## Register the component\n",
    "Once we have successfully tested the component, we could register the component to the workspace with the following command. After registeration, the component will be availbe to all users that have access to the worksapce. And it can be consumed both in designer UI and SDK.  \n",
    "- `az ml component build` will automatically generate yaml spec from component entry script that are wrapped as dsl component\n",
    "- `az ml component register` will register component to an Azure Machine Learning workspace. \n"
   ]
  },
  {
   "cell_type": "code",
   "execution_count": null,
   "metadata": {
    "tags": []
   },
   "outputs": [],
   "source": [
    "!az ml component build --target components/creation/prepare_data/prepare_data_entry.py --source-dir components/creation/prepare_data\n",
    "!az ml component register --set-as-default-version --spec-file components/creation/prepare_data/prepare_data_entry.spec.yaml"
   ]
  },
  {
   "cell_type": "code",
   "execution_count": null,
   "metadata": {
    "tags": []
   },
   "outputs": [],
   "source": [
    "# Check whether the component is successfully registered\n",
    "component_func = component.load(ws, name='Prepare data')\n",
    "help(component_func)"
   ]
  },
  {
   "cell_type": "markdown",
   "metadata": {},
   "source": [
    "It's also possible to consume the registered component in designer UI. Add &flight=cm at end of your URL to see custom components in designer.\n",
    "![consume-in-designer](./components/media/consume-in-designer.png)"
   ]
  },
  {
   "cell_type": "code",
   "execution_count": null,
   "metadata": {},
   "outputs": [],
   "source": []
  }
 ],
 "metadata": {
  "kernelspec": {
   "display_name": "Python 3.7.3 64-bit ('base': conda)",
   "language": "python",
   "name": "python37364bitbaseconda36078d3c2bf34e13b1c7384ac58bb5be"
  },
  "language_info": {
   "codemirror_mode": {
    "name": "ipython",
    "version": 3
   },
   "file_extension": ".py",
   "mimetype": "text/x-python",
   "name": "python",
   "nbconvert_exporter": "python",
   "pygments_lexer": "ipython3",
   "version": "3.7.3"
  }
 },
 "nbformat": 4,
 "nbformat_minor": 2
}
