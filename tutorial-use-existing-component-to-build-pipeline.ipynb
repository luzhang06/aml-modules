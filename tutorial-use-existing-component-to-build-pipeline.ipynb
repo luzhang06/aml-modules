{
 "metadata": {
  "language_info": {
   "codemirror_mode": {
    "name": "ipython",
    "version": 3
   },
   "file_extension": ".py",
   "mimetype": "text/x-python",
   "name": "python",
   "nbconvert_exporter": "python",
   "pygments_lexer": "ipython3",
   "version": 3
  },
  "orig_nbformat": 2
 },
 "nbformat": 4,
 "nbformat_minor": 2,
 "cells": [
  {
   "source": [
    "## Tutorial-use-existing-component-to-build-pipeline(to be updated)\n",
    "\n",
    "In this tutorial, you will learn how to:\n",
    "- 1 Use Microsoft official components\n",
    "- 2 Use existing custom components from AML component gallery\n",
    "- 3 Build a pipeline with component from 1 and 2 "
   ],
   "cell_type": "markdown",
   "metadata": {}
  },
  {
   "cell_type": "code",
   "execution_count": null,
   "metadata": {},
   "outputs": [],
   "source": []
  }
 ]
}