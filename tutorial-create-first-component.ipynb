{
 "cells": [
  {
   "cell_type": "markdown",
   "metadata": {},
   "source": [
    "Copyright (c) Microsoft Corporation. All rights reserved.\n",
    "\n",
    "Licensed under the MIT License."
   ]
  },
  {
   "cell_type": "markdown",
   "metadata": {},
   "source": [
    "# Develop your own Azure Machine Learning component using CLI & dsl.component\n",
    "\n",
    "In this notebook, you learn how to create a simple machine learning module from scratch and use it in an ML pipeline.\n",
    "\n",
    "* Init a module from an existing python script with module cli;\n",
    "* Run local test(optional), to make sure the code works correctly;\n",
    "* Register the module to your Machine learning workspace;\n",
    "\n"
   ]
  },
  {
   "cell_type": "markdown",
   "metadata": {},
   "source": [
    "## Prerequisites\n",
    "* Install azure cli with azure-cli-ml extension following the [instructions here](https://github.com/Azure/DesignerPrivatePreviewFeatures/blob/sdkpreview/azureml-modules/samples/setup-environment.ipynb).\n"
   ]
  },
  {
   "cell_type": "markdown",
   "metadata": {},
   "source": [
    "## Setup workspace\n",
    "\n",
    "Login to azure with cli and set the default workspace using `az ml folder attach` command.\n",
    "\n",
    "After this operation, the workspace could be retrived with the `Workspace.from_config()` for SDK usage."
   ]
  },
  {
   "cell_type": "code",
   "execution_count": null,
   "metadata": {},
   "outputs": [],
   "source": [
    "# NOTE: Update the following information with your environment\n",
    "\n",
    "SUBSCRIPTION_ID = '<your subscription ID>'\n",
    "WORKSPACE_NAME = '<your workspace name>'\n",
    "RESOURCE_GROUP_NAME = '<your resource group>'"
   ]
  },
  {
   "cell_type": "code",
   "execution_count": null,
   "metadata": {},
   "outputs": [],
   "source": [
    "!az login -o none # When the first time you use az cli, you need to login to make sure you could access you sub and workspace\n",
    "!az account set -s $SUBSCRIPTION_ID \n",
    "!az ml folder attach -w $WORKSPACE_NAME -g $RESOURCE_GROUP_NAME "
   ]
  },
  {
   "cell_type": "code",
   "execution_count": null,
   "metadata": {
    "tags": []
   },
   "outputs": [],
   "source": [
    "from azureml.core import Workspace\n",
    "\n",
    "ws = Workspace.from_config()"
   ]
  },
  {
   "cell_type": "markdown",
   "metadata": {},
   "source": [
    "## Init a module with an existing python script\n",
    "\n",
    "We will init a module from an existing python script with azureml cli. The script is in [modules/creation/prepare_data](modules/creation/prepare_data). Print the script to see what's in it."
   ]
  },
  {
   "cell_type": "code",
   "execution_count": null,
   "metadata": {},
   "outputs": [],
   "source": [
    "with open('modules/creation/prepare_data/prepare_data.py') as fin:\n",
    "    print(fin.read())"
   ]
  },
  {
   "cell_type": "markdown",
   "metadata": {},
   "source": [
    "Now init a dsl module with `az ml module init` command. In following cell, `--source` defines the source script (need to parse command-line arguments with argparse) to initalize the dsl module from, `--inputs/outputs` defines the input and output from the source script's argparse parameters, `source-dir` defines the source directory to generate the initalized files, `--entry-only` defines it only generate the entry script.\n",
    "\n",
    "Run `az ml module init --help` to learn more how to use this command. "
   ]
  },
  {
   "cell_type": "code",
   "execution_count": 1,
   "metadata": {
    "tags": []
   },
   "outputs": [
    {
     "output_type": "stream",
     "name": "stderr",
     "text": "az: error: unrecognized arguments: --entry-only\nusage: az [-h] [--verbose] [--debug] [--only-show-errors]\n          [--output {json,jsonc,yaml,yamlc,table,tsv,none}] [--query JMESPATH]\n          {ml} ...\n"
    }
   ],
   "source": [
    "!az ml module init --source prepare_data.py --inputs input_data --outputs output_data --source-dir modules/creation/prepare_data --entry-only"
   ]
  },
  {
   "cell_type": "markdown",
   "metadata": {},
   "source": [
    "Note: This toturial run `az ml module init` command with `--entry-only` arugment, which means it will only generate the entry file. Without `--entry-only`, following files will be generated to help module development/test. \n",
    "\n",
    "|File name|Purpose|\n",
    "| -----------| ----------- |\n",
    "|prepare_data_entry.py|Module entry script wrapped by dsl module decorator, which defines the interface and main logic of the module|\n",
    "|prepare_data.spec.yaml|Module spec in yaml format, use it to register the module|\n",
    "|conda.yaml|YAML file that manages conda environment. It's refferneced by module yaml sepc|\n",
    "|prepare_data_entry.test.ipynb| Test notebook for this module. It contains sample code on how to test the module|\n",
    "|config.json|A blank AML workspace config.josn file. Copy your AML workspace config here|\n",
    "|./tests|The template test folder. It contains a template unit test script for the module.|\n",
    "|./data|The placeholder data folder to put local test data.|\n",
    "\n",
    "\n",
    "The `az ml init --source` required source script parse the command-line using argparse. If your script is not written by argparse, we suggest to init a template dsl module (by not defining source), and edit the module script manually. "
   ]
  },
  {
   "cell_type": "markdown",
   "metadata": {},
   "source": [
    "Print the generated module entry file"
   ]
  },
  {
   "cell_type": "code",
   "execution_count": null,
   "metadata": {
    "tags": []
   },
   "outputs": [],
   "source": [
    "with open('modules/creation/prepare_data/prepare_data_entry.py') as fin:\n",
    "    print(fin.read())"
   ]
  },
  {
   "cell_type": "markdown",
   "metadata": {},
   "source": [
    "For this toturial, the inialized entry script parse all module arguments correctly, so there is no need to further edit the entry script. For a different module, you may adjust the entry script in following parts:\n",
    "\n",
    "* Put the meta information in `@dsl.module()`, see [module spec](https://aka.ms/azureml-module-specs) for more details;\n",
    "* Adjust the function args to indicate the module interface, use InputFile/InputDirectory/OutputFile/OutputDirectory to indicate the input/output, others are parameters;\n",
    "* Adjust the logic in function body, this is the main logic for the module;\n",
    "\n",
    "In AzureML, the script is executed with command line args, in the main part, we call \"ModuleExecutor(prepare_data).execute(sys.argv)\" to parse the command line to function args and pass the args to the function.\n",
    "Thus we cannot change this line to make sure the module runs correctly in AzureML."
   ]
  },
  {
   "cell_type": "markdown",
   "metadata": {},
   "source": [
    "## Run the module in local \n",
    "\n",
    "After we developed the module, to ensure it works correctly, we could load this module and run the module in local.\n",
    "\n",
    "`Module.from_func` can load a module from a Python fucntion. \n",
    "`Module.from_yaml` can load a module object from yaml spec. \n",
    "\n",
    "This two methods are designed for load module quickly for test purpose."
   ]
  },
  {
   "cell_type": "code",
   "execution_count": null,
   "metadata": {
    "tags": []
   },
   "outputs": [],
   "source": [
    "from azureml.pipeline.wrapper import Module\n",
    "import sys\n",
    "sys.path.insert(0, 'modules/creation/prepare_data/')  # This line adds modules/prepare_data to your path so you could import it.\n",
    "from prepare_data_entry import prepare_data\n",
    "\n",
    "prepare_module_func = Module.from_func(ws, prepare_data)\n",
    "help(prepare_module_func)"
   ]
  },
  {
   "cell_type": "markdown",
   "metadata": {},
   "source": [
    "Run the module with local test data.`module.run` support both run the module with local python environment, or with local container, configured by `use_docker` parameter. Note that in module entry script the input type is InputDirectory, so here pass a direcotry for local test. "
   ]
  },
  {
   "cell_type": "code",
   "execution_count": null,
   "metadata": {
    "tags": []
   },
   "outputs": [],
   "source": [
    "local_sample = 'modules/creation/prepare_data_small_input'\n",
    "module = prepare_module_func(input_data=local_sample)\n",
    "module.run(experiment_name='prepare_data_local_run', use_docker=False, track_run_history=True)"
   ]
  },
  {
   "cell_type": "markdown",
   "metadata": {},
   "source": [
    "## Register the module\n",
    "Once we have successfully tested the module, we could register the module to the workspace with the following command. After registeration, the module will be availbe to all users that have access to the worksapce. And it can be consumed both in designer UI and SDK.  \n",
    "- `az ml module build` will automatically generate yaml spec from module entry script that are wrapped as dsl module\n",
    "- `az ml module register` will register module to an Azure Machine Learning workspace. \n"
   ]
  },
  {
   "cell_type": "code",
   "execution_count": null,
   "metadata": {
    "tags": []
   },
   "outputs": [],
   "source": [
    "!az ml module build --target modules/creation/prepare_data/prepare_data_entry.py --source-dir modules/creation/prepare_data\n",
    "!az ml module register --set-as-default-version --spec-file modules/creation/prepare_data/prepare_data_entry.spec.yaml"
   ]
  },
  {
   "cell_type": "code",
   "execution_count": null,
   "metadata": {
    "tags": []
   },
   "outputs": [],
   "source": [
    "# Check whether the module is successfully registered\n",
    "module_func = Module.load(ws, name='Prepare data')\n",
    "help(module_func)"
   ]
  },
  {
   "cell_type": "markdown",
   "metadata": {},
   "source": [
    "It's also possible to consume the registered module in designer UI. Add &flight=cm at end of your URL to see custom modules in designer.\n",
    "![consume-in-designer](./modules/media/consume-in-designer.png)"
   ]
  },
  {
   "cell_type": "code",
   "execution_count": null,
   "metadata": {},
   "outputs": [],
   "source": []
  }
 ],
 "metadata": {
  "kernelspec": {
   "display_name": "Python 3.7.3 64-bit ('base': conda)",
   "language": "python",
   "name": "python37364bitbaseconda36078d3c2bf34e13b1c7384ac58bb5be"
  },
  "language_info": {
   "codemirror_mode": {
    "name": "ipython",
    "version": 3
   },
   "file_extension": ".py",
   "mimetype": "text/x-python",
   "name": "python",
   "nbconvert_exporter": "python",
   "pygments_lexer": "ipython3",
   "version": "3.7.3-final"
  }
 },
 "nbformat": 4,
 "nbformat_minor": 2
}