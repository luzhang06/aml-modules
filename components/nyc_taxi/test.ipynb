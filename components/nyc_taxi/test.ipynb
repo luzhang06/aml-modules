{
 "metadata": {
  "language_info": {
   "codemirror_mode": {
    "name": "ipython",
    "version": 3
   },
   "file_extension": ".py",
   "mimetype": "text/x-python",
   "name": "python",
   "nbconvert_exporter": "python",
   "pygments_lexer": "ipython3",
   "version": "3.7.3-final"
  },
  "orig_nbformat": 2,
  "kernelspec": {
   "name": "python_defaultSpec_1598873036478",
   "display_name": "Python 3.7.3 64-bit ('base': conda)"
  }
 },
 "nbformat": 4,
 "nbformat_minor": 2,
 "cells": [
  {
   "cell_type": "code",
   "execution_count": 6,
   "metadata": {},
   "outputs": [],
   "source": [
    "import pandas as pd\n",
    "import pyarrow "
   ]
  },
  {
   "cell_type": "code",
   "execution_count": 25,
   "metadata": {},
   "outputs": [
    {
     "output_type": "execute_result",
     "data": {
      "text/plain": "   vendorID   lpepPickupDatetime  lpepDropoffDatetime  passengerCount  \\\n0         2  2016-01-09 18:58:58  2016-01-09 19:06:41               1   \n1         2  2016-01-03 03:57:47  2016-01-03 04:18:20               1   \n2         2  2016-01-12 07:50:03  2016-01-12 07:58:42               1   \n3         2  2016-01-25 22:28:22  2016-01-25 23:01:53               3   \n4         1  2016-01-14 17:34:18  2016-01-14 17:44:56               1   \n5         2  2016-01-27 18:02:46  2016-01-27 18:33:01               1   \n6         2  2016-01-27 23:36:55  2016-01-27 23:44:57               1   \n7         2  2016-01-08 13:42:39  2016-01-08 13:50:55               1   \n8         1  2016-01-12 23:01:47  2016-01-12 23:08:46               1   \n9         2  2016-01-06 14:17:15  2016-01-06 14:21:32               1   \n\n   tripDistance  puLocationId  doLocationId  pickupLongitude  pickupLatitude  \\\n0          2.90           NaN           NaN       -73.938622       40.813137   \n1          7.49           NaN           NaN       -73.948914       40.828785   \n2          1.10           NaN           NaN       -73.949600       40.785564   \n3          4.52           NaN           NaN       -73.957603       40.729721   \n4          1.40           NaN           NaN       -73.920700       40.756775   \n5          5.56           NaN           NaN       -73.953568       40.787170   \n6          1.63           NaN           NaN       -73.966331       40.804417   \n7          1.41           NaN           NaN       -73.955208       40.804558   \n8          1.10           NaN           NaN       -73.959122       40.716579   \n9          0.76           NaN           NaN       -73.861938       40.730446   \n\n   dropoffLongitude  ...  paymentType  fareAmount extra  mtaTax  \\\n0        -73.935532  ...            2        10.5   0.0     0.5   \n1        -73.974045  ...            2        21.5   0.5     0.5   \n2        -73.966515  ...            2         7.5   0.0     0.5   \n3        -73.958908  ...            1        22.5   0.5     0.5   \n4        -73.910950  ...            1         8.5   0.5     0.5   \n5        -74.004257  ...            1        23.5   1.0     0.5   \n6        -73.949562  ...            1         8.0   0.5     0.5   \n7        -73.939316  ...            2         8.0   0.0     0.5   \n8        -73.942322  ...            2         6.5   0.5     0.5   \n9        -73.849785  ...            2         5.0   0.0     0.5   \n\n   improvementSurcharge  tipAmount  tollsAmount  ehailFee  totalAmount  \\\n0                   0.3       0.00          0.0       NaN        11.30   \n1                   0.3       0.00          0.0       NaN        22.80   \n2                   0.3       0.00          0.0       NaN         8.30   \n3                   0.3       4.76          0.0       NaN        28.56   \n4                   0.3       1.95          0.0       NaN        11.75   \n5                   0.3       5.06          0.0       NaN        30.36   \n6                   0.3       1.86          0.0       NaN        11.16   \n7                   0.3       0.00          0.0       NaN         8.80   \n8                   0.3       0.00          0.0       NaN         7.80   \n9                   0.3       0.00          0.0       NaN         5.80   \n\n   tripType  \n0       1.0  \n1       1.0  \n2       1.0  \n3       1.0  \n4       1.0  \n5       1.0  \n6       1.0  \n7       1.0  \n8       1.0  \n9       1.0  \n\n[10 rows x 23 columns]",
      "text/html": "<div>\n<style scoped>\n    .dataframe tbody tr th:only-of-type {\n        vertical-align: middle;\n    }\n\n    .dataframe tbody tr th {\n        vertical-align: top;\n    }\n\n    .dataframe thead th {\n        text-align: right;\n    }\n</style>\n<table border=\"1\" class=\"dataframe\">\n  <thead>\n    <tr style=\"text-align: right;\">\n      <th></th>\n      <th>vendorID</th>\n      <th>lpepPickupDatetime</th>\n      <th>lpepDropoffDatetime</th>\n      <th>passengerCount</th>\n      <th>tripDistance</th>\n      <th>puLocationId</th>\n      <th>doLocationId</th>\n      <th>pickupLongitude</th>\n      <th>pickupLatitude</th>\n      <th>dropoffLongitude</th>\n      <th>...</th>\n      <th>paymentType</th>\n      <th>fareAmount</th>\n      <th>extra</th>\n      <th>mtaTax</th>\n      <th>improvementSurcharge</th>\n      <th>tipAmount</th>\n      <th>tollsAmount</th>\n      <th>ehailFee</th>\n      <th>totalAmount</th>\n      <th>tripType</th>\n    </tr>\n  </thead>\n  <tbody>\n    <tr>\n      <th>0</th>\n      <td>2</td>\n      <td>2016-01-09 18:58:58</td>\n      <td>2016-01-09 19:06:41</td>\n      <td>1</td>\n      <td>2.90</td>\n      <td>NaN</td>\n      <td>NaN</td>\n      <td>-73.938622</td>\n      <td>40.813137</td>\n      <td>-73.935532</td>\n      <td>...</td>\n      <td>2</td>\n      <td>10.5</td>\n      <td>0.0</td>\n      <td>0.5</td>\n      <td>0.3</td>\n      <td>0.00</td>\n      <td>0.0</td>\n      <td>NaN</td>\n      <td>11.30</td>\n      <td>1.0</td>\n    </tr>\n    <tr>\n      <th>1</th>\n      <td>2</td>\n      <td>2016-01-03 03:57:47</td>\n      <td>2016-01-03 04:18:20</td>\n      <td>1</td>\n      <td>7.49</td>\n      <td>NaN</td>\n      <td>NaN</td>\n      <td>-73.948914</td>\n      <td>40.828785</td>\n      <td>-73.974045</td>\n      <td>...</td>\n      <td>2</td>\n      <td>21.5</td>\n      <td>0.5</td>\n      <td>0.5</td>\n      <td>0.3</td>\n      <td>0.00</td>\n      <td>0.0</td>\n      <td>NaN</td>\n      <td>22.80</td>\n      <td>1.0</td>\n    </tr>\n    <tr>\n      <th>2</th>\n      <td>2</td>\n      <td>2016-01-12 07:50:03</td>\n      <td>2016-01-12 07:58:42</td>\n      <td>1</td>\n      <td>1.10</td>\n      <td>NaN</td>\n      <td>NaN</td>\n      <td>-73.949600</td>\n      <td>40.785564</td>\n      <td>-73.966515</td>\n      <td>...</td>\n      <td>2</td>\n      <td>7.5</td>\n      <td>0.0</td>\n      <td>0.5</td>\n      <td>0.3</td>\n      <td>0.00</td>\n      <td>0.0</td>\n      <td>NaN</td>\n      <td>8.30</td>\n      <td>1.0</td>\n    </tr>\n    <tr>\n      <th>3</th>\n      <td>2</td>\n      <td>2016-01-25 22:28:22</td>\n      <td>2016-01-25 23:01:53</td>\n      <td>3</td>\n      <td>4.52</td>\n      <td>NaN</td>\n      <td>NaN</td>\n      <td>-73.957603</td>\n      <td>40.729721</td>\n      <td>-73.958908</td>\n      <td>...</td>\n      <td>1</td>\n      <td>22.5</td>\n      <td>0.5</td>\n      <td>0.5</td>\n      <td>0.3</td>\n      <td>4.76</td>\n      <td>0.0</td>\n      <td>NaN</td>\n      <td>28.56</td>\n      <td>1.0</td>\n    </tr>\n    <tr>\n      <th>4</th>\n      <td>1</td>\n      <td>2016-01-14 17:34:18</td>\n      <td>2016-01-14 17:44:56</td>\n      <td>1</td>\n      <td>1.40</td>\n      <td>NaN</td>\n      <td>NaN</td>\n      <td>-73.920700</td>\n      <td>40.756775</td>\n      <td>-73.910950</td>\n      <td>...</td>\n      <td>1</td>\n      <td>8.5</td>\n      <td>0.5</td>\n      <td>0.5</td>\n      <td>0.3</td>\n      <td>1.95</td>\n      <td>0.0</td>\n      <td>NaN</td>\n      <td>11.75</td>\n      <td>1.0</td>\n    </tr>\n    <tr>\n      <th>5</th>\n      <td>2</td>\n      <td>2016-01-27 18:02:46</td>\n      <td>2016-01-27 18:33:01</td>\n      <td>1</td>\n      <td>5.56</td>\n      <td>NaN</td>\n      <td>NaN</td>\n      <td>-73.953568</td>\n      <td>40.787170</td>\n      <td>-74.004257</td>\n      <td>...</td>\n      <td>1</td>\n      <td>23.5</td>\n      <td>1.0</td>\n      <td>0.5</td>\n      <td>0.3</td>\n      <td>5.06</td>\n      <td>0.0</td>\n      <td>NaN</td>\n      <td>30.36</td>\n      <td>1.0</td>\n    </tr>\n    <tr>\n      <th>6</th>\n      <td>2</td>\n      <td>2016-01-27 23:36:55</td>\n      <td>2016-01-27 23:44:57</td>\n      <td>1</td>\n      <td>1.63</td>\n      <td>NaN</td>\n      <td>NaN</td>\n      <td>-73.966331</td>\n      <td>40.804417</td>\n      <td>-73.949562</td>\n      <td>...</td>\n      <td>1</td>\n      <td>8.0</td>\n      <td>0.5</td>\n      <td>0.5</td>\n      <td>0.3</td>\n      <td>1.86</td>\n      <td>0.0</td>\n      <td>NaN</td>\n      <td>11.16</td>\n      <td>1.0</td>\n    </tr>\n    <tr>\n      <th>7</th>\n      <td>2</td>\n      <td>2016-01-08 13:42:39</td>\n      <td>2016-01-08 13:50:55</td>\n      <td>1</td>\n      <td>1.41</td>\n      <td>NaN</td>\n      <td>NaN</td>\n      <td>-73.955208</td>\n      <td>40.804558</td>\n      <td>-73.939316</td>\n      <td>...</td>\n      <td>2</td>\n      <td>8.0</td>\n      <td>0.0</td>\n      <td>0.5</td>\n      <td>0.3</td>\n      <td>0.00</td>\n      <td>0.0</td>\n      <td>NaN</td>\n      <td>8.80</td>\n      <td>1.0</td>\n    </tr>\n    <tr>\n      <th>8</th>\n      <td>1</td>\n      <td>2016-01-12 23:01:47</td>\n      <td>2016-01-12 23:08:46</td>\n      <td>1</td>\n      <td>1.10</td>\n      <td>NaN</td>\n      <td>NaN</td>\n      <td>-73.959122</td>\n      <td>40.716579</td>\n      <td>-73.942322</td>\n      <td>...</td>\n      <td>2</td>\n      <td>6.5</td>\n      <td>0.5</td>\n      <td>0.5</td>\n      <td>0.3</td>\n      <td>0.00</td>\n      <td>0.0</td>\n      <td>NaN</td>\n      <td>7.80</td>\n      <td>1.0</td>\n    </tr>\n    <tr>\n      <th>9</th>\n      <td>2</td>\n      <td>2016-01-06 14:17:15</td>\n      <td>2016-01-06 14:21:32</td>\n      <td>1</td>\n      <td>0.76</td>\n      <td>NaN</td>\n      <td>NaN</td>\n      <td>-73.861938</td>\n      <td>40.730446</td>\n      <td>-73.849785</td>\n      <td>...</td>\n      <td>2</td>\n      <td>5.0</td>\n      <td>0.0</td>\n      <td>0.5</td>\n      <td>0.3</td>\n      <td>0.00</td>\n      <td>0.0</td>\n      <td>NaN</td>\n      <td>5.80</td>\n      <td>1.0</td>\n    </tr>\n  </tbody>\n</table>\n<p>10 rows × 23 columns</p>\n</div>"
     },
     "metadata": {},
     "execution_count": 25
    }
   ],
   "source": [
    "green_raw = pd.read_csv('./data/green_unprepared.csv')\n",
    "green_raw.head(10)"
   ]
  },
  {
   "cell_type": "code",
   "execution_count": 36,
   "metadata": {},
   "outputs": [],
   "source": [
    "useful_columns_string= 'vendorID,tripDistance,fareAmount'"
   ]
  },
  {
   "cell_type": "code",
   "execution_count": 40,
   "metadata": {},
   "outputs": [
    {
     "output_type": "execute_result",
     "data": {
      "text/plain": "'vendorID,tripDistance,fareAmount'"
     },
     "metadata": {},
     "execution_count": 40
    }
   ],
   "source": [
    "useful_columns_string"
   ]
  },
  {
   "cell_type": "code",
   "execution_count": 57,
   "metadata": {
    "tags": []
   },
   "outputs": [
    {
     "output_type": "execute_result",
     "data": {
      "text/plain": "dict_keys(['vendorID', 'fareAmount', 'tripDistance'])"
     },
     "metadata": {},
     "execution_count": 57
    }
   ],
   "source": [
    "green_columns_dic = { \n",
    "    \"vendorID\": \"vendor\",\n",
    "    \"fareAmount\": \"cost\",\n",
    "    \"tripDistance\": \"distance\"\n",
    "}"
   ]
  },
  {
   "cell_type": "code",
   "execution_count": 78,
   "metadata": {},
   "outputs": [],
   "source": [
    "useful_columns= ['vendorID','fareAmount','tripDistance']\n",
    "test"
   ]
  },
  {
   "cell_type": "code",
   "execution_count": 157,
   "metadata": {},
   "outputs": [
    {
     "output_type": "execute_result",
     "data": {
      "text/plain": "[\"'a'\", 'b']"
     },
     "metadata": {},
     "execution_count": 157
    }
   ],
   "source": [
    "test=[\"'a'\",'b']\n",
    "test"
   ]
  },
  {
   "cell_type": "code",
   "execution_count": 86,
   "metadata": {},
   "outputs": [
    {
     "output_type": "execute_result",
     "data": {
      "text/plain": "      vendor  cost  distance\n0          2  10.5      2.90\n1          2  21.5      7.49\n2          2   7.5      1.10\n3          2  22.5      4.52\n4          1   8.5      1.40\n...      ...   ...       ...\n4995       2  28.5      8.74\n4996       2  11.5      2.36\n4997       2   8.0      2.06\n4998       2   5.0      0.73\n4999       1  10.5      2.50\n\n[5000 rows x 3 columns]",
      "text/html": "<div>\n<style scoped>\n    .dataframe tbody tr th:only-of-type {\n        vertical-align: middle;\n    }\n\n    .dataframe tbody tr th {\n        vertical-align: top;\n    }\n\n    .dataframe thead th {\n        text-align: right;\n    }\n</style>\n<table border=\"1\" class=\"dataframe\">\n  <thead>\n    <tr style=\"text-align: right;\">\n      <th></th>\n      <th>vendor</th>\n      <th>cost</th>\n      <th>distance</th>\n    </tr>\n  </thead>\n  <tbody>\n    <tr>\n      <th>0</th>\n      <td>2</td>\n      <td>10.5</td>\n      <td>2.90</td>\n    </tr>\n    <tr>\n      <th>1</th>\n      <td>2</td>\n      <td>21.5</td>\n      <td>7.49</td>\n    </tr>\n    <tr>\n      <th>2</th>\n      <td>2</td>\n      <td>7.5</td>\n      <td>1.10</td>\n    </tr>\n    <tr>\n      <th>3</th>\n      <td>2</td>\n      <td>22.5</td>\n      <td>4.52</td>\n    </tr>\n    <tr>\n      <th>4</th>\n      <td>1</td>\n      <td>8.5</td>\n      <td>1.40</td>\n    </tr>\n    <tr>\n      <th>...</th>\n      <td>...</td>\n      <td>...</td>\n      <td>...</td>\n    </tr>\n    <tr>\n      <th>4995</th>\n      <td>2</td>\n      <td>28.5</td>\n      <td>8.74</td>\n    </tr>\n    <tr>\n      <th>4996</th>\n      <td>2</td>\n      <td>11.5</td>\n      <td>2.36</td>\n    </tr>\n    <tr>\n      <th>4997</th>\n      <td>2</td>\n      <td>8.0</td>\n      <td>2.06</td>\n    </tr>\n    <tr>\n      <th>4998</th>\n      <td>2</td>\n      <td>5.0</td>\n      <td>0.73</td>\n    </tr>\n    <tr>\n      <th>4999</th>\n      <td>1</td>\n      <td>10.5</td>\n      <td>2.50</td>\n    </tr>\n  </tbody>\n</table>\n<p>5000 rows × 3 columns</p>\n</div>"
     },
     "metadata": {},
     "execution_count": 86
    }
   ],
   "source": [
    "new_df = green_raw.dropna(how='all')\n",
    "new_df = new_df[useful_columns]\n",
    "new_df = new_df.rename(columns=green_columns_dic)"
   ]
  },
  {
   "cell_type": "code",
   "execution_count": 150,
   "metadata": {},
   "outputs": [],
   "source": [
    "def get_dict(dict_str):\n",
    "    pairs = dict_str.strip(\"{}\").split(\";\")\n",
    "    print(pairs)\n",
    "    new_dict = {}\n",
    "    for pair in pairs:\n",
    "        print(pair)\n",
    "        key, value = pair.strip().split(\":\")\n",
    "        new_dict[key.strip().strip(\"'\")] = value.strip().strip(\"'\")\n",
    "\n",
    "    return new_dict"
   ]
  },
  {
   "cell_type": "code",
   "execution_count": 149,
   "metadata": {},
   "outputs": [],
   "source": [
    "yello_columns = \"'vendorID': 'vendor'; 'fareAmount': 'cost'; 'tripDistance': 'distance'\""
   ]
  },
  {
   "cell_type": "code",
   "execution_count": 143,
   "metadata": {},
   "outputs": [
    {
     "output_type": "execute_result",
     "data": {
      "text/plain": "\"'vendorID': 'vendor'; 'fareAmount': 'cost'; 'tripDistance': 'distance'\""
     },
     "metadata": {},
     "execution_count": 143
    }
   ],
   "source": [
    "yello_columns"
   ]
  },
  {
   "cell_type": "code",
   "execution_count": 151,
   "metadata": {
    "tags": []
   },
   "outputs": [
    {
     "output_type": "stream",
     "name": "stdout",
     "text": "[\"'vendorID': 'vendor'\", \" 'fareAmount': 'cost'\", \" 'tripDistance': 'distance'\"]\n'vendorID': 'vendor'\n 'fareAmount': 'cost'\n 'tripDistance': 'distance'\n"
    },
    {
     "output_type": "execute_result",
     "data": {
      "text/plain": "{'vendorID': 'vendor', 'fareAmount': 'cost', 'tripDistance': 'distance'}"
     },
     "metadata": {},
     "execution_count": 151
    }
   ],
   "source": [
    "get_dict(yello_columns)"
   ]
  },
  {
   "cell_type": "code",
   "execution_count": 158,
   "metadata": {},
   "outputs": [
    {
     "output_type": "execute_result",
     "data": {
      "text/plain": "\"'vendorID','fareAmount','tripDistance'\""
     },
     "metadata": {},
     "execution_count": 158
    }
   ],
   "source": [
    "useful_columns = \"'vendorID','fareAmount','tripDistance'\"\n",
    "useful_columns"
   ]
  },
  {
   "cell_type": "code",
   "execution_count": 162,
   "metadata": {},
   "outputs": [
    {
     "output_type": "execute_result",
     "data": {
      "text/plain": "['vendorID', 'fareAmount', 'tripDistance']"
     },
     "metadata": {},
     "execution_count": 162
    }
   ],
   "source": [
    "useful_columns_list = [s.strip().strip(\"'\") for s in useful_columns.strip(\"[]\").split(\",\")]\n",
    "useful_columns_list\n"
   ]
  },
  {
   "cell_type": "code",
   "execution_count": 194,
   "metadata": {},
   "outputs": [],
   "source": [
    "from azureml.core import Workspace\n",
    "from azureml.core.compute import AmlCompute, ComputeTarget\n",
    "from azureml.pipeline.wrapper import component, Pipeline, dsl\n",
    "import sys\n",
    "from pathlib import Path\n",
    "\n",
    "from cleanse import clean"
   ]
  },
  {
   "cell_type": "code",
   "execution_count": 181,
   "metadata": {
    "tags": []
   },
   "outputs": [
    {
     "output_type": "stream",
     "name": "stdout",
     "text": "zhanxiaAML\nMT\neastus\nee85ed72-2b26-48f6-a0e8-cb5bcf98fbd9\n"
    }
   ],
   "source": [
    "workspace = Workspace.from_config(path = './config.json')\n",
    "print(workspace.name, workspace.resource_group, workspace.location, workspace.subscription_id, sep='\\n')"
   ]
  },
  {
   "cell_type": "code",
   "execution_count": 195,
   "metadata": {
    "tags": []
   },
   "outputs": [
    {
     "output_type": "stream",
     "name": "stdout",
     "text": "Help on function [component] nyc clean (namespace: zhanxiaAML):\n\n[component] nyc clean (namespace: zhanxiaAML)(*, input_data: \"['AnyDirectory']\" = None, useful_columns: 'str' = None, new_names: 'str' = None)\n    pick useful columns and rename\n    \n    component yaml:\n    ```yaml\n    amlcomponentIdentifier:\n      namespace: zhanxiaAML\n      componentName: nyc clean\n      componentVersion: 0.0.1\n    isDeterministic: True\n    jobType: Basic\n    description: pick useful columns and rename\n    metadata:\n      annotations:\n        codegenBy: dsl.component\n    inputs:\n    - name: Input data\n      type: AnyDirectory\n      optional: False\n      description: input data, needs to be read as pandas dataframe\n      argumentName: input_data\n    - name: Useful columns\n      type: String\n      optional: False\n      description: columns to keep, like 'vendorID','fareAmount'\n      argumentName: useful_columns\n    - name: New names\n      type: String\n      optional: False\n      description: \"new names mapping, like 'vendorID': 'vendor'; 'fareAmount': 'cost'\"\n      argumentName: new_names\n    outputs:\n    - name: Output data\n      type: AnyDirectory\n      description: output data after clean\n      argumentName: output_data\n    implementation:\n      container:\n        amlEnvironment:\n          python:\n            condaDependencies:\n              channels:\n              - defaults\n              dependencies:\n              - python=3.7.3\n              - pip:\n                - --extra-index-url=https://azuremlsdktestpypi.azureedge.net/CLI-SDK-Runners-Validation/19185956\n                - azureml-defaults==0.1.0.19185956\n                - azureml-pipeline-wrapper==0.1.0.19185956\n              name: project_environment\n          docker:\n            baseImage: mcr.microsoft.com/azureml/base:intelmpi2018.3-ubuntu16.04\n        command: [python, cleanse.py]\n        args: [--input_data, {inputPath: Input data}, --useful_columns, {inputValue: Useful columns}, --new_names, {inputValue: New names}, --output_data, {outputPath: Output data}]\n      os: Linux\n    ...\n    \n    ```\n\n"
    }
   ],
   "source": [
    "clean_fun = component.from_func(workspace, clean)\n",
    "help(clean_fun)"
   ]
  },
  {
   "cell_type": "code",
   "execution_count": 196,
   "metadata": {
    "tags": []
   },
   "outputs": [
    {
     "output_type": "stream",
     "name": "stdout",
     "text": "working dir is C:\\Users\\zhanxia\\AppData\\Local\\Temp\\85303384-3a5b-472a-8dd8-b326adcea2dd\nPreparing snapshot\nPrepared snapshot, time elapsed 0:00:04.404932\nPreparing experiment and run in run history\nPrepared experiment and run in run history, time elapsed 0:00:03.971002\nRunId:7fd4aa4d-cc58-4b13-82c7-964cc6e4ff94\nLink to Azure Machine Learning Portal:https://ml.azure.com/experiments/nyc_clean/runs/7fd4aa4d-cc58-4b13-82c7-964cc6e4ff94?wsid=/subscriptions/ee85ed72-2b26-48f6-a0e8-cb5bcf98fbd9/resourcegroups/MT/workspaces/zhanxiaAML\nStart running component nyc clean\nFinish running component nyc clean, component run status is Completed\nFinish upload run status to runhistory\n"
    },
    {
     "output_type": "execute_result",
     "data": {
      "text/plain": "'Completed'"
     },
     "metadata": {},
     "execution_count": 196
    }
   ],
   "source": [
    "clean_component = clean_fun(input_data='./data/green_unprepared.csv', useful_columns= \"'vendorID','fareAmount','tripDistance','passengerCount'\", new_names = \"'vendorID': 'vendor'; 'fareAmount': 'cost'; 'tripDistance': 'distance'; 'passengerCount': 'passengers'\")\n",
    "clean_component.run(use_docker=False)"
   ]
  },
  {
   "cell_type": "code",
   "execution_count": 197,
   "metadata": {
    "tags": []
   },
   "outputs": [
    {
     "output_type": "stream",
     "name": "stdout",
     "text": "working dir is C:\\Users\\zhanxia\\AppData\\Local\\Temp\\85303384-3a5b-472a-8dd8-b326adcea2dd\nPreparing snapshot\nPrepared snapshot, time elapsed 0:00:11.449944\nPreparing experiment and run in run history\nPrepared experiment and run in run history, time elapsed 0:00:02.228999\nRunId:7124d04a-2f88-4708-a68f-eb5742a171aa\nLink to Azure Machine Learning Portal:https://ml.azure.com/experiments/nyc_clean/runs/7124d04a-2f88-4708-a68f-eb5742a171aa?wsid=/subscriptions/ee85ed72-2b26-48f6-a0e8-cb5bcf98fbd9/resourcegroups/MT/workspaces/zhanxiaAML\nStart running component nyc clean\nFinish running component nyc clean, component run status is Completed\nFinish upload run status to runhistory\n"
    },
    {
     "output_type": "execute_result",
     "data": {
      "text/plain": "'Completed'"
     },
     "metadata": {},
     "execution_count": 197
    }
   ],
   "source": [
    "clean_component_yellow = clean_fun(input_data='./data/yellow_unprepared.csv', useful_columns= \"'vendorID','fareAmount','tripDistance','passengerCount'\", new_names = \"'vendorID': 'vendor'; 'fareAmount': 'cost'; 'tripDistance': 'distance'; 'passengerCount': 'passengers'\")\n",
    "clean_component.run(use_docker=False)"
   ]
  },
  {
   "cell_type": "code",
   "execution_count": 199,
   "metadata": {
    "tags": []
   },
   "outputs": [
    {
     "output_type": "stream",
     "name": "stdout",
     "text": "Help on function [component] nyc taxi merge (namespace: zhanxiaAML):\n\n[component] nyc taxi merge (namespace: zhanxiaAML)(*, cleaned_yellow_data: \"['AnyDirectory']\" = None, cleaned_green_data: \"['AnyDirectory']\" = None)\n    merge two datasets\n    \n    component yaml:\n    ```yaml\n    amlcomponentIdentifier:\n      namespace: zhanxiaAML\n      componentName: nyc taxi merge\n      componentVersion: 0.0.1\n    isDeterministic: True\n    jobType: Basic\n    description: merge two datasets\n    metadata:\n      annotations:\n        codegenBy: dsl.component\n    inputs:\n    - name: Cleaned yellow data\n      type: AnyDirectory\n      optional: False\n      description: cleaned yellow data, needs to be read as pandas dataframe\n      argumentName: cleaned_yellow_data\n    - name: Cleaned green data\n      type: AnyDirectory\n      optional: False\n      description: cleaned green data, needs to be read as pandas dataframe\n      argumentName: cleaned_green_data\n    outputs:\n    - name: Merged output\n      type: AnyDirectory\n      description: output data after merge\n      argumentName: merged_output\n    implementation:\n      container:\n        amlEnvironment:\n          python:\n            condaDependencies:\n              channels:\n              - defaults\n              dependencies:\n              - python=3.7.3\n              - pip:\n                - --extra-index-url=https://azuremlsdktestpypi.azureedge.net/CLI-SDK-Runners-Validation/19185956\n                - azureml-defaults==0.1.0.19185956\n                - azureml-pipeline-wrapper==0.1.0.19185956\n              name: project_environment\n          docker:\n            baseImage: mcr.microsoft.com/azureml/base:intelmpi2018.3-ubuntu16.04\n        command: [python, merge.py]\n        args: [--cleaned_yellow_data, {inputPath: Cleaned yellow data}, --cleaned_green_data, {inputPath: Cleaned green data}, --merged_output, {outputPath: Merged output}]\n      os: Linux\n    ...\n    \n    ```\n\n"
    }
   ],
   "source": [
    "from merge import merge\n",
    "merge_func = component.from_func(workspace,merge)\n",
    "help(merge_func)"
   ]
  },
  {
   "cell_type": "code",
   "execution_count": 200,
   "metadata": {
    "tags": []
   },
   "outputs": [
    {
     "output_type": "stream",
     "name": "stdout",
     "text": "working dir is C:\\Users\\zhanxia\\AppData\\Local\\Temp\\68d8a277-849e-4825-889d-49810d26cc06\nPreparing snapshot\nPrepared snapshot, time elapsed 0:00:05.114038\nPreparing experiment and run in run history\nPrepared experiment and run in run history, time elapsed 0:00:06.339994\nRunId:3a52430f-bdd4-4987-b166-cdea15e77e13\nLink to Azure Machine Learning Portal:https://ml.azure.com/experiments/nyc_taxi_merge/runs/3a52430f-bdd4-4987-b166-cdea15e77e13?wsid=/subscriptions/ee85ed72-2b26-48f6-a0e8-cb5bcf98fbd9/resourcegroups/MT/workspaces/zhanxiaAML\nStart running component nyc taxi merge\nFinish running component nyc taxi merge, component run status is Completed\nFinish upload run status to runhistory\n"
    },
    {
     "output_type": "execute_result",
     "data": {
      "text/plain": "'Completed'"
     },
     "metadata": {},
     "execution_count": 200
    }
   ],
   "source": [
    "component_merge = merge_func(cleaned_green_data='./data/green_processed.csv', cleaned_yellow_data='./data/yellow_processed.csv')\n",
    "component_merge.run(use_docker=False)"
   ]
  },
  {
   "cell_type": "code",
   "execution_count": null,
   "metadata": {},
   "outputs": [],
   "source": []
  }
 ]
}