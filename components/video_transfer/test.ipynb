{
 "metadata": {
  "language_info": {
   "codemirror_mode": {
    "name": "ipython",
    "version": 3
   },
   "file_extension": ".py",
   "mimetype": "text/x-python",
   "name": "python",
   "nbconvert_exporter": "python",
   "pygments_lexer": "ipython3",
   "version": "3.7.3-final"
  },
  "orig_nbformat": 2,
  "kernelspec": {
   "name": "python_defaultSpec_1598860596228",
   "display_name": "Python 3.7.3 64-bit ('Continuum': virtualenv)"
  }
 },
 "nbformat": 4,
 "nbformat_minor": 2,
 "cells": [
  {
   "cell_type": "code",
   "execution_count": 5,
   "metadata": {
    "tags": []
   },
   "outputs": [
    {
     "output_type": "stream",
     "name": "stderr",
     "text": "Failure while loading azureml_run_type_providers. Failed to load entrypoint hyperdrive = azureml.train.hyperdrive:HyperDriveRun._from_run_dto with exception (azureml-telemetry 0.1.0.19185956 (c:\\users\\zhanxia\\appdata\\roaming\\python\\python37\\site-packages), Requirement.parse('azureml-telemetry~=1.6.0')).\nFailure while loading azureml_run_type_providers. Failed to load entrypoint automl = azureml.train.automl.run:AutoMLRun._from_run_dto with exception (azureml-telemetry 0.1.0.19185956 (c:\\users\\zhanxia\\appdata\\roaming\\python\\python37\\site-packages), Requirement.parse('azureml-telemetry~=1.6.0')).\nFailure while loading azureml_run_type_providers. Failed to load entrypoint azureml.PipelineRun = azureml.pipeline.core.run:PipelineRun._from_dto with exception (azureml-core 0.1.0.19185956 (c:\\users\\zhanxia\\appdata\\roaming\\python\\python37\\site-packages), Requirement.parse('azureml-core~=1.6.0')).\nFailure while loading azureml_run_type_providers. Failed to load entrypoint azureml.ReusedStepRun = azureml.pipeline.core.run:StepRun._from_reused_dto with exception (azureml-core 0.1.0.19185956 (c:\\users\\zhanxia\\appdata\\roaming\\python\\python37\\site-packages), Requirement.parse('azureml-core~=1.6.0')).\nFailure while loading azureml_run_type_providers. Failed to load entrypoint azureml.StepRun = azureml.pipeline.core.run:StepRun._from_dto with exception (azureml-core 0.1.0.19185956 (c:\\users\\zhanxia\\appdata\\roaming\\python\\python37\\site-packages), Requirement.parse('azureml-core~=1.6.0')).\n"
    }
   ],
   "source": [
    "from azureml.core import Workspace\n",
    "from azureml.core.compute import AmlCompute, ComputeTarget\n",
    "from azureml.pipeline.wrapper import component, Pipeline, dsl\n",
    "import sys\n",
    "from pathlib import Path"
   ]
  },
  {
   "cell_type": "code",
   "execution_count": 6,
   "metadata": {
    "tags": []
   },
   "outputs": [
    {
     "output_type": "stream",
     "name": "stderr",
     "text": "Warning: Falling back to use azure cli login credentials.\nIf you run your code in unattended mode, i.e., where you can't give a user input, then we recommend to use ServicePrincipalAuthentication or MsiAuthentication.\nPlease refer to aka.ms/aml-notebook-auth for different authentication mechanisms in azureml-sdk.\nzhanxiaAML\nMT\neastus\nee85ed72-2b26-48f6-a0e8-cb5bcf98fbd9\ncpu-cluster\n"
    }
   ],
   "source": [
    "workspace = Workspace.from_config(path = './config.json')\n",
    "aml_compute_target = \"cpu-cluster\"\n",
    "print(workspace.name, workspace.resource_group, workspace.location, workspace.subscription_id, aml_compute_target, sep='\\n')"
   ]
  },
  {
   "cell_type": "code",
   "execution_count": 30,
   "metadata": {
    "tags": []
   },
   "outputs": [],
   "source": [
    "\n",
    "# The following line adds source directory to path. \n",
    "from slice_video import slice_video\n",
    "from stitch_video import stitch_video\n",
    "from transform import style_transform_parallel"
   ]
  },
  {
   "cell_type": "code",
   "execution_count": 38,
   "metadata": {},
   "outputs": [],
   "source": [
    "transform_fun = component.from_func(workspace, style_transform_parallel)\n",
    "slice_video_fun = component.from_func(workspace, slice_video)\n",
    "stitch_video_fun = component.from_func(workspace, stitch_video)\n",
    "\n"
   ]
  },
  {
   "cell_type": "code",
   "execution_count": 40,
   "metadata": {
    "tags": []
   },
   "outputs": [
    {
     "output_type": "stream",
     "name": "stdout",
     "text": "Help on function [component] slice video (namespace: zhanxiaAML):\n\n[component] slice video (namespace: zhanxiaAML)(*, input_video: \"['AnyDirectory']\" = None)\n    slice input video into images and audio\n    \n    component yaml:\n    ```yaml\n    amlcomponentIdentifier:\n      namespace: zhanxiaAML\n      componentName: slice video\n      componentVersion: 0.0.1\n    isDeterministic: True\n    jobType: Basic\n    description: slice input video into images and audio\n    metadata:\n      annotations:\n        codegenBy: dsl.component\n    inputs:\n    - name: Input video\n      type: AnyDirectory\n      optional: True\n      description: input directory of video file\n      argumentName: input_video\n    outputs:\n    - name: Output audio\n      type: AnyDirectory\n      description: output directory of audio from video\n      argumentName: output_audio\n    - name: Output images\n      type: AnyDirectory\n      description: output directory of images slice from video\n      argumentName: output_images\n    implementation:\n      container:\n        amlEnvironment:\n          python:\n            condaDependencies:\n              channels:\n              - defaults\n              dependencies:\n              - python=3.7.3\n              - pip:\n                - --extra-index-url=https://azuremlsdktestpypi.azureedge.net/CLI-SDK-Runners-Validation/19185956\n                - azureml-defaults==0.1.0.19185956\n                - azureml-pipeline-wrapper==0.1.0.19185956\n              name: project_environment\n          docker:\n            baseImage: mcr.microsoft.com/azureml/base:intelmpi2018.3-ubuntu16.04\n        command: [python, slice_video.py]\n        args: [[--input_video, {inputPath: Input video}], --output_audio, {outputPath: Output audio}, --output_images, {outputPath: Output images}]\n      os: Linux\n    ...\n    \n    ```\n\n"
    }
   ],
   "source": [
    "help(slice_video_fun)"
   ]
  },
  {
   "cell_type": "code",
   "execution_count": 32,
   "metadata": {
    "tags": []
   },
   "outputs": [
    {
     "output_type": "stream",
     "name": "stdout",
     "text": "Help on function [component] stitch video (namespace: zhanxiaAML):\n\n[component] stitch video (namespace: zhanxiaAML)(*, input_images: \"['AnyDirectory']\" = None, input_audio: \"['AnyDirectory']\" = None)\n    stitch images and audio back to video\n    \n    component yaml:\n    ```yaml\n    amlcomponentIdentifier:\n      namespace: zhanxiaAML\n      componentName: stitch video\n      componentVersion: 0.0.1\n    isDeterministic: True\n    jobType: Basic\n    description: stitch images and audio back to video\n    metadata:\n      annotations:\n        codegenBy: dsl.component\n    inputs:\n    - name: Input images\n      type: AnyDirectory\n      optional: False\n      description: input directory of images\n      argumentName: input_images\n    - name: Input audio\n      type: AnyDirectory\n      optional: False\n      description: input directory of audio\n      argumentName: input_audio\n    outputs:\n    - name: Output video\n      type: AnyDirectory\n      description: output directory of stitched video file\n      argumentName: output_video\n    implementation:\n      container:\n        amlEnvironment:\n          python:\n            condaDependencies:\n              channels:\n              - defaults\n              dependencies:\n              - python=3.7.3\n              - pip:\n                - --extra-index-url=https://azuremlsdktestpypi.azureedge.net/CLI-SDK-Runners-Validation/19185956\n                - azureml-defaults==0.1.0.19185956\n                - azureml-pipeline-wrapper==0.1.0.19185956\n              name: project_environment\n          docker:\n            baseImage: mcr.microsoft.com/azureml/base:intelmpi2018.3-ubuntu16.04\n        command: [python, stitch_video.py]\n        args: [--input_images, {inputPath: Input images}, --input_audio, {inputPath: Input audio}, --output_video, {outputPath: Output video}]\n      os: Linux\n    ...\n    \n    ```\n\n"
    }
   ],
   "source": [
    "help(stitch_video_fun)"
   ]
  },
  {
   "cell_type": "code",
   "execution_count": 42,
   "metadata": {
    "tags": []
   },
   "outputs": [
    {
     "output_type": "stream",
     "name": "stdout",
     "text": "Help on function [component] slice video (namespace: zhanxiaAML):\n\n[component] slice video (namespace: zhanxiaAML)(*, input_video: \"['AnyDirectory']\" = None)\n    slice input video into images and audio\n    \n    component yaml:\n    ```yaml\n    amlcomponentIdentifier:\n      namespace: zhanxiaAML\n      componentName: slice video\n      componentVersion: 0.0.1\n    isDeterministic: True\n    jobType: Basic\n    description: slice input video into images and audio\n    metadata:\n      annotations:\n        codegenBy: dsl.component\n    inputs:\n    - name: Input video\n      type: AnyDirectory\n      optional: True\n      description: input directory of video file\n      argumentName: input_video\n    outputs:\n    - name: Output audio\n      type: AnyDirectory\n      description: output directory of audio from video\n      argumentName: output_audio\n    - name: Output images\n      type: AnyDirectory\n      description: output directory of images slice from video\n      argumentName: output_images\n    implementation:\n      container:\n        amlEnvironment:\n          python:\n            condaDependencies:\n              channels:\n              - defaults\n              dependencies:\n              - python=3.7.3\n              - pip:\n                - --extra-index-url=https://azuremlsdktestpypi.azureedge.net/CLI-SDK-Runners-Validation/19185956\n                - azureml-defaults==0.1.0.19185956\n                - azureml-pipeline-wrapper==0.1.0.19185956\n              name: project_environment\n          docker:\n            baseImage: mcr.microsoft.com/azureml/base:intelmpi2018.3-ubuntu16.04\n        command: [python, slice_video.py]\n        args: [[--input_video, {inputPath: Input video}], --output_audio, {outputPath: Output audio}, --output_images, {outputPath: Output images}]\n      os: Linux\n    ...\n    \n    ```\n\n"
    }
   ],
   "source": [
    "help(slice_video_fun)"
   ]
  },
  {
   "cell_type": "code",
   "execution_count": 44,
   "metadata": {
    "tags": []
   },
   "outputs": [
    {
     "output_type": "stream",
     "name": "stdout",
     "text": "working dir is C:\\Users\\zhanxia\\AppData\\Local\\Temp\\a24a7b53-ae4a-4f2b-8f67-51c262b16563\nPreparing snapshot\nPrepared snapshot, time elapsed 0:01:09.622418\nPreparing experiment and run in run history\nPrepared experiment and run in run history, time elapsed 0:00:09.919054\nRunId:583d7d81-a4f2-4f46-98f6-665c75507322\nLink to Azure Machine Learning Portal:https://ml.azure.com/experiments/slice_video/runs/583d7d81-a4f2-4f46-98f6-665c75507322?wsid=/subscriptions/ee85ed72-2b26-48f6-a0e8-cb5bcf98fbd9/resourcegroups/MT/workspaces/zhanxiaAML\nStart running component slice video\nFinish running component slice video, component run status is Completed\nFinish upload run status to runhistory\n"
    },
    {
     "output_type": "execute_result",
     "data": {
      "text/plain": "'Completed'"
     },
     "metadata": {},
     "execution_count": 44
    }
   ],
   "source": [
    "slice_component = slice_video_fun(input_video='./data/orangutan.mp4')\n",
    "slice_component.run(use_docker=False)"
   ]
  },
  {
   "cell_type": "code",
   "execution_count": 35,
   "metadata": {
    "tags": []
   },
   "outputs": [
    {
     "output_type": "stream",
     "name": "stdout",
     "text": "Package                              Version\n------------------------------------ -------------------\n-cipy                                1.2.1\nabsl-py                              0.9.0\nadal                                 1.2.3\nalabaster                            0.7.12\nanaconda-client                      1.7.2\nanaconda-navigator                   1.9.7\nanaconda-project                     0.8.3\nansiwrap                             0.8.4\napplicationinsights                  0.11.9\nartifacts-keyring                    0.2.9\nasn1crypto                           1.3.0\nastroid                              2.4.1\nastropy                              4.0.1.post1\nastunparse                           1.6.3\natomicwrites                         1.4.0\nattrs                                19.3.0\nazure-common                         1.1.25\nazure-core                           1.6.0\nazure-graphrbac                      0.61.1\nazure-identity                       1.2.0\nazure-mgmt-authorization             0.60.0\nazure-mgmt-containerregistry         2.8.0\nazure-mgmt-keyvault                  2.2.0\nazure-mgmt-network                   10.2.0\nazure-mgmt-resource                  9.0.0\nazure-mgmt-storage                   10.0.0\nazure-storage-blob                   12.3.2\nazureml-automl-core                  1.6.0\nazureml-core                         0.1.0.19185956\nazureml-dataprep                     2.0.7\nazureml-dataprep-native              20.0.2\nazureml-dataset-runtime              1.12.0\nazureml-designer-core                0.0.40\nazureml-opendatasets                 1.6.0\nazureml-pipeline                     1.6.0\nazureml-pipeline-core                1.6.0\nazureml-pipeline-steps               1.6.0\nazureml-pipeline-wrapper             0.1.0.19185956\nazureml-sdk                          1.6.0\nazureml-telemetry                    0.1.0.19185956\nazureml-train                        1.6.0\nazureml-train-automl-client          1.6.0.post1\nazureml-train-core                   1.6.0.post1\nazureml-train-restclients-hyperdrive 1.6.0\nazureml-widgets                      1.7.0\nBabel                                2.8.0\nbackcall                             0.1.0\nbackports.os                         0.1.1\nbackports.shutil-get-terminal-size   1.0.0\nbackports.tempfile                   1.0\nbackports.weakref                    1.0.post1\nbeautifulsoup4                       4.9.0\nbitarray                             1.2.1\nbkcharts                             0.2\nbleach                               3.1.4\nbokeh                                2.0.2\nboto                                 2.49.0\nBottleneck                           1.3.2WARNING: You are using pip version 20.1.1; however, version 20.2.2 is available.\nYou should consider upgrading via the 'C:\\Users\\zhanxia\\AppData\\Local\\Continuum\\anaconda3\\python.exe -m pip install --upgrade pip' command.\n\ncachetools                           4.1.0\ncertifi                              2020.6.20\ncffi                                 1.14.0\nchardet                              3.0.4\nclick                                7.1.2\ncloudpickle                          1.4.1\nclyent                               1.2.2\ncolorama                             0.4.3\ncomtypes                             1.1.7\nconda                                4.8.3\nconda-build                          3.17.8\nconda-package-handling               1.7.0\nconda-verify                         3.1.1\ncontextlib2                          0.6.0.post1\ncontrol                              0.8.3\ncryptography                         2.9.2\ncycler                               0.10.0\nCython                               0.29.17\ncytoolz                              0.10.1\ndask                                 1.1.4\ndecorator                            4.4.2\ndefusedxml                           0.6.0\ndistributed                          1.26.0\ndistro                               1.4.0\ndocker                               4.2.1\ndocutils                             0.16\ndotnetcore2                          2.1.14\nentrypoints                          0.3\net-xmlfile                           1.0.1\nfastcache                            1.1.0\nfilelock                             3.0.12\nflake8                               3.7.9\nFlask                                1.1.2\nfsspec                               0.7.4\nfusepy                               3.0.1\nfuture                               0.18.2\ngast                                 0.3.3\ngevent                               1.4.0\nglob2                                0.7\ngoogle-auth                          1.17.0\ngoogle-auth-oauthlib                 0.4.1\ngoogle-pasta                         0.2.0\ngreenlet                             0.4.15\ngrpcio                               1.29.0\nh5py                                 2.10.0\nHeapDict                             1.0.1\nhtml5lib                             1.0.1\nhypothesis                           5.11.0\nidna                                 2.9\nimageio                              2.8.0\nimagesize                            1.2.0\nimportlib-metadata                   1.6.0\nipykernel                            5.1.4\nipython                              7.13.0\nipython-genutils                     0.2.0\nipywidgets                           7.5.1\nisodate                              0.6.0\nisort                                4.3.21\nitsdangerous                         1.1.0\njdcal                                1.4.1\njedi                                 0.17.0\njeepney                              0.4.3\nJinja2                               2.11.2\njmespath                             0.10.0\njoblib                               0.15.1\njson5                                0.9.4\njsonpickle                           1.4.1\njsonschema                           3.0.1\njupyter                              1.0.0\njupyter-client                       6.1.3\njupyter-console                      6.1.0\njupyter-core                         4.6.3\njupyterlab                           1.2.6\njupyterlab-server                    1.1.4\nKeras-Preprocessing                  1.1.2\nkeyring                              21.1.1\nkiwisolver                           1.2.0\nlazy-object-proxy                    1.4.3\nlibarchive-c                         2.9\nllvmlite                             0.28.0\nlocket                               0.2.0\nlxml                                 4.5.0\nMarkdown                             3.2.2\nMarkupSafe                           1.1.1\nmatplotlib                           3.1.3\nmccabe                               0.6.1\nmenuinst                             1.4.16\nmistune                              0.8.4\nmkl-fft                              1.0.15\nmkl-random                           1.1.1\nmkl-service                          2.3.0\nmock                                 4.0.2\nmore-itertools                       6.0.0\nmpmath                               1.1.0\nmsal                                 1.3.0\nmsal-extensions                      0.1.3\nmsgpack                              1.0.0\nmsrest                               0.6.14\nmsrestazure                          0.6.3\nmultipledispatch                     0.6.0\nmylib                                0.0.1\nnavigator-updater                    0.2.1\nnbconvert                            5.6.1\nnbformat                             5.0.6\nndg-httpsclient                      0.5.1\nnetworkx                             2.4\nnltk                                 3.4.5\nnose                                 1.3.7\nnotebook                             6.0.3\nnumba                                0.43.1\nnumexpr                              2.7.1\nnumpy                                1.18.1\nnumpydoc                             0.9.2\noauthlib                             3.1.0\nolefile                              0.46\nopenpyxl                             3.0.3\nopentelemetry-api                    0.9b0\nopentelemetry-ext-jaeger             0.9b0\nopentelemetry-sdk                    0.9b0\nopt-einsum                           3.2.1\npackaging                            20.3\npandas                               1.0.4\npandas-profiling                     1.4.2\npandocfilters                        1.4.2\npapermill                            0.18.2\nparso                                0.7.0\npartd                                1.1.0\npath.py                              12.0.2\npathlib2                             2.3.5\npathspec                             0.8.0\npatsy                                0.5.1\npep8                                 1.7.1\npickleshare                          0.7.5\nPillow                               7.1.2\npip                                  20.1.1\npkginfo                              1.5.0.1\npluggy                               0.13.1\nply                                  3.11\nportalocker                          1.7.0\nprometheus-client                    0.7.1\nprompt-toolkit                       3.0.5\nprotobuf                             3.12.2\npsutil                               5.7.0\npy                                   1.8.1\npy4j                                 0.10.7\npyarrow                              1.0.0\npyasn1                               0.4.8\npyasn1-components                       0.2.8\npycodestyle                          2.6.0\npycosat                              0.6.3\npycparser                            2.20\npycrypto                             2.6.1\npycryptodomex                        3.7.3\npycurl                               7.43.0.5\npyflakes                             2.2.0\nPygments                             2.6.1\nPyJWT                                1.7.1\npylint                               2.5.2\npyodbc                               4.0.0-unsupported\npyOpenSSL                            19.1.0\npyparsing                            2.4.7\npypiwin32                            223\npyreadline                           2.1\npyrsistent                           0.16.0\nPySocks                              1.7.1\npyspark                              2.4.5\npytest                               5.4.2\npytest-arraydiff                     0.3\npytest-astropy                       0.8.0\npytest-astropy-header                0.1.2\npytest-doctestplus                   0.5.0\npytest-openfiles                     0.5.0\npytest-remotedata                    0.3.2\npython-dateutil                      2.8.1\npytz                                 2020.1\nPyWavelets                           1.1.1\npywin32                              227\npywin32-ctypes                       0.2.0\npywinpty                             0.5.7\nPyYAML                               5.3.1\npyzmq                                18.1.1\nQtAwesome                            0.7.0\nqtconsole                            4.7.4\nQtPy                                 1.9.0\nrequests                             2.23.0\nrequests-oauthlib                    1.3.0\nretry                                0.9.2\nrope                                 0.17.0\nrsa                                  4.1\nruamel-yaml                          0.15.87\nruamel.yaml                          0.16.10\nruamel.yaml.clib                     0.2.0\nscikit-image                         0.14.2\nscikit-learn                         0.20.3\nscipy                                1.4.1\nseaborn                              0.9.0\nSecretStorage                        3.1.2\nSend2Trash                           1.5.0\nsetuptools                           46.4.0.post20200518\nsimplegeneric                        0.8.1\nsingledispatch                       3.4.0.3\nsix                                  1.14.0\nslycot                               0.4.0.0\nsnowballstemmer                      2.0.0\nsortedcollections                    1.1.2\nsortedcontainers                     2.1.0\nsoupsieve                            2.0.1\nSphinx                               3.0.3\nsphinxcontrib-applehelp              1.0.2\nsphinxcontrib-devhelp                1.0.2\nsphinxcontrib-htmlhelp               1.0.3\nsphinxcontrib-jsmath                 1.0.1\nsphinxcontrib-qthelp                 1.0.3\nsphinxcontrib-serializinghtml        1.1.4\nsphinxcontrib-websupport             1.2.1\nspyder                               3.3.3\nspyder-kernels                       0.4.2\nSQLAlchemy                           1.3.17\nstatsmodels                          0.9.0\nsympy                                1.5.1\ntables                               3.5.1\ntblib                                1.6.0\ntensorboard                          2.2.2\ntensorboard-plugin-wit               1.6.0.post3\ntensorflow                           2.2.0\ntensorflow-estimator                 2.2.0\ntermcolor                            1.1.0\nterminado                            0.8.3\ntestpath                             0.4.4\ntextwrap3                            0.9.2\nthrift                               0.13.0\ntoml                                 0.10.0\ntoolz                                0.10.0\ntorch                                1.5.1\ntorchvision                          0.6.1\ntornado                              6.0.4\ntqdm                                 4.46.0\ntraitlets                            4.3.3\ntyped-ast                            1.4.1\ntyping-extensions                    3.7.4.1\nunicodecsv                           0.14.1\nurllib3                              1.25.8\nwcwidth                              0.1.9\nwebencodings                         0.5.1\nwebsocket-client                     0.57.0\nWerkzeug                             1.0.1\nwheel                                0.34.2\nwidgetsnbextension                   3.5.1\nwin-inet-pton                        1.1.0\nwin-unicode-console                  0.5\nwincertstore                         0.2\nwrapt                                1.11.2\nxlrd                                 1.2.0\nXlsxWriter                           1.2.8\nxlwings                              0.19.4\nxlwt                                 1.3.0\nzict                                 2.0.0\nzipp                                 3.1.0\n"
    }
   ],
   "source": [
    "!pip list"
   ]
  },
  {
   "cell_type": "code",
   "execution_count": 45,
   "metadata": {
    "tags": []
   },
   "outputs": [
    {
     "output_type": "stream",
     "name": "stdout",
     "text": "working dir is C:\\Users\\zhanxia\\AppData\\Local\\Temp\\60cbea4a-0795-4288-8d37-28fb5dab65c8\nPreparing snapshot\nPrepared snapshot, time elapsed 0:02:10.562159\nPreparing experiment and run in run history\nPrepared experiment and run in run history, time elapsed 0:00:09.205035\nRunId:b9b1012a-1d0a-48f1-8574-706fd9b753ac\nLink to Azure Machine Learning Portal:https://ml.azure.com/experiments/style_transfer_parallel/runs/b9b1012a-1d0a-48f1-8574-706fd9b753ac?wsid=/subscriptions/ee85ed72-2b26-48f6-a0e8-cb5bcf98fbd9/resourcegroups/MT/workspaces/zhanxiaAML\nStart running component Style Transfer Parallel\nFinish running component Style Transfer Parallel, component run status is Completed\nFinish upload run status to runhistory\n"
    },
    {
     "output_type": "execute_result",
     "data": {
      "text/plain": "'Completed'"
     },
     "metadata": {},
     "execution_count": 45
    }
   ],
   "source": [
    "transform_component = transform_fun(content_dir='./data/output_images', model_dir='./data/models',style='candy')\n",
    "transform_component.run(use_docker=False)"
   ]
  },
  {
   "cell_type": "code",
   "execution_count": 46,
   "metadata": {},
   "outputs": [],
   "source": [
    "def get_dict(dict_str):\n",
    "    pairs = dict_str.strip(\"{}\").split(\"\\;\")\n",
    "    new_dict = {}\n",
    "    for pair in pairs:\n",
    "        key, value = pair.strip().split(\":\")\n",
    "        new_dict[key.strip().strip(\"'\")] = value.strip().strip(\"'\")\n",
    "\n",
    "    return new_dict"
   ]
  },
  {
   "cell_type": "code",
   "execution_count": 47,
   "metadata": {},
   "outputs": [],
   "source": [
    "yellow_columns = str({\n",
    "    \"vendorID\": \"vendor\",\n",
    "    \"tpepPickupDateTime\": \"pickup_datetime\",\n",
    "    \"tpepDropoffDateTime\": \"dropoff_datetime\",\n",
    "    \"storeAndFwdFlag\": \"store_forward\",\n",
    "    \"startLon\": \"pickup_longitude\",\n",
    "    \"startLat\": \"pickup_latitude\",\n",
    "    \"endLon\": \"dropoff_longitude\",\n",
    "    \"endLat\": \"dropoff_latitude\",\n",
    "    \"passengerCount\": \"passengers\",\n",
    "    \"fareAmount\": \"cost\",\n",
    "    \"tripDistance\": \"distance\"\n",
    "}).replace(\",\", \";\")"
   ]
  },
  {
   "cell_type": "code",
   "execution_count": 48,
   "metadata": {},
   "outputs": [
    {
     "output_type": "error",
     "ename": "ValueError",
     "evalue": "too many values to unpack (expected 2)",
     "traceback": [
      "\u001b[1;31m---------------------------------------------------------------------------\u001b[0m",
      "\u001b[1;31mValueError\u001b[0m                                Traceback (most recent call last)",
      "\u001b[1;32m<ipython-input-48-5df68e9c4110>\u001b[0m in \u001b[0;36m<component>\u001b[1;34m\u001b[0m\n\u001b[1;32m----> 1\u001b[1;33m \u001b[0mget_dict\u001b[0m\u001b[1;33m(\u001b[0m\u001b[0myellow_columns\u001b[0m\u001b[1;33m)\u001b[0m\u001b[1;33m\u001b[0m\u001b[1;33m\u001b[0m\u001b[0m\n\u001b[0m",
      "\u001b[1;32m<ipython-input-46-ee670baa3be5>\u001b[0m in \u001b[0;36mget_dict\u001b[1;34m(dict_str)\u001b[0m\n\u001b[0;32m      3\u001b[0m     \u001b[0mnew_dict\u001b[0m \u001b[1;33m=\u001b[0m \u001b[1;33m{\u001b[0m\u001b[1;33m}\u001b[0m\u001b[1;33m\u001b[0m\u001b[1;33m\u001b[0m\u001b[0m\n\u001b[0;32m      4\u001b[0m     \u001b[1;32mfor\u001b[0m \u001b[0mpair\u001b[0m \u001b[1;32min\u001b[0m \u001b[0mpairs\u001b[0m\u001b[1;33m:\u001b[0m\u001b[1;33m\u001b[0m\u001b[1;33m\u001b[0m\u001b[0m\n\u001b[1;32m----> 5\u001b[1;33m         \u001b[0mkey\u001b[0m\u001b[1;33m,\u001b[0m \u001b[0mvalue\u001b[0m \u001b[1;33m=\u001b[0m \u001b[0mpair\u001b[0m\u001b[1;33m.\u001b[0m\u001b[0mstrip\u001b[0m\u001b[1;33m(\u001b[0m\u001b[1;33m)\u001b[0m\u001b[1;33m.\u001b[0m\u001b[0msplit\u001b[0m\u001b[1;33m(\u001b[0m\u001b[1;34m\":\"\u001b[0m\u001b[1;33m)\u001b[0m\u001b[1;33m\u001b[0m\u001b[1;33m\u001b[0m\u001b[0m\n\u001b[0m\u001b[0;32m      6\u001b[0m         \u001b[0mnew_dict\u001b[0m\u001b[1;33m[\u001b[0m\u001b[0mkey\u001b[0m\u001b[1;33m.\u001b[0m\u001b[0mstrip\u001b[0m\u001b[1;33m(\u001b[0m\u001b[1;33m)\u001b[0m\u001b[1;33m.\u001b[0m\u001b[0mstrip\u001b[0m\u001b[1;33m(\u001b[0m\u001b[1;34m\"'\"\u001b[0m\u001b[1;33m)\u001b[0m\u001b[1;33m]\u001b[0m \u001b[1;33m=\u001b[0m \u001b[0mvalue\u001b[0m\u001b[1;33m.\u001b[0m\u001b[0mstrip\u001b[0m\u001b[1;33m(\u001b[0m\u001b[1;33m)\u001b[0m\u001b[1;33m.\u001b[0m\u001b[0mstrip\u001b[0m\u001b[1;33m(\u001b[0m\u001b[1;34m\"'\"\u001b[0m\u001b[1;33m)\u001b[0m\u001b[1;33m\u001b[0m\u001b[1;33m\u001b[0m\u001b[0m\n\u001b[0;32m      7\u001b[0m \u001b[1;33m\u001b[0m\u001b[0m\n",
      "\u001b[1;31mValueError\u001b[0m: too many values to unpack (expected 2)"
     ]
    }
   ],
   "source": [
    "get_dict(yellow_columns)"
   ]
  },
  {
   "cell_type": "code",
   "execution_count": null,
   "metadata": {},
   "outputs": [],
   "source": []
  }
 ]
}