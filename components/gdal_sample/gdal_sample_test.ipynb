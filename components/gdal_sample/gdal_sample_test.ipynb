{
 "cells": [
  {
   "cell_type": "markdown",
   "metadata": {},
   "source": [
    "# Test Notebook for Building Pipeline Using component 'gdal_sample'\n",
    "The component 'gdal_sample' was generated through command: 'az ml component init -n gdal_sample'"
   ]
  },
  {
   "cell_type": "code",
   "execution_count": null,
   "metadata": {},
   "outputs": [],
   "source": [
    "from azureml.core import Workspace\n",
    "from azureml.core.compute import AmlCompute, ComputeTarget\n",
    "from azureml.pipeline.wrapper import component, Pipeline, dsl\n",
    "import sys\n",
    "from pathlib import Path\n",
    "# The following line adds source directory to path. \n",
    "from gdal_sample import gdal_sample"
   ]
  },
  {
   "source": [
    "## Prerequisites: Configure workspace & compute\n",
    "\n",
    " - Update config.json to make sure it has information on your workspace, subscription id, etc.\n",
    " - Change the following aml_compute_target's value to reference an existing compute target"
   ],
   "cell_type": "markdown",
   "metadata": {}
  },
  {
   "cell_type": "code",
   "execution_count": null,
   "metadata": {},
   "outputs": [],
   "source": [
    "workspace = Workspace.from_config(path = './config.json')\n",
    "aml_compute_target = \"YOUR_COMPUTE_TARGET\"\n",
    "print(workspace.name, workspace.resource_group, workspace.location, workspace.subscription_id, aml_compute_target, sep='\\n')"
   ]
  },
  {
   "source": [
    "# Load component(s)\n",
    "Load a component function through one of the following:\n",
    "- component.from_func: when you have a python function decorated with @dsl.component\n",
    "- component.from_yaml: when loading from existing component yaml definition\n",
    "- component.load: when you have already registered the component into Azure ML workspace"
   ],
   "cell_type": "markdown",
   "metadata": {}
  },
  {
   "cell_type": "code",
   "execution_count": null,
   "metadata": {},
   "outputs": [],
   "source": [
    "component_func = component.from_func(workspace, gdal_sample)\n",
    "help(component_func)"
   ]
  },
  {
   "cell_type": "markdown",
   "metadata": {},
   "source": [
    "# Run component in local\n",
    "Using component.run can execute component in local machine<br>\n",
    "If use_docker=True, will pull image from azure and run component in container.<br>\n",
    "If use_docker=False, will directly run component script."
   ]
  },
  {
   "cell_type": "code",
   "execution_count": null,
   "metadata": {},
   "outputs": [],
   "source": [
    "# create component\n",
    "component = component_func().set_parameters(\n",
    "    str_param='some_string'\n",
    ").set_inputs(\n",
    "    input_dir=str(Path('data') / 'gdal_sample' / 'inputs' / 'input_dir')\n",
    ")\n",
    "component.run(use_docker=True)"
   ]
  },
  {
   "source": [
    "# Create pipeline\n",
    "This is done by calling component function(s) with the parameters/inputs/outputs the component supports"
   ],
   "cell_type": "markdown",
   "metadata": {}
  },
  {
   "cell_type": "code",
   "execution_count": null,
   "metadata": {},
   "outputs": [],
   "source": [
    "# prepare dataset with the following code \n",
    "\n",
    "# from azureml.core import Dataset\n",
    "\n",
    "# your_dataset = Dataset.get_by_name(name='YOUR_DATASET_NAME')\n"
   ]
  },
  {
   "cell_type": "code",
   "execution_count": null,
   "metadata": {},
   "outputs": [],
   "source": [
    "@dsl.pipeline(name='gdal_sample_pipeline', description='A sample pipeline uses gdal_sample', default_compute_target=aml_compute_target)\n",
    "def sample_pipeline() -> Pipeline:\n",
    "    component1 = component_func().set_parameters(\n",
    "    \n",
    "    ).set_inputs(\n",
    "        \n",
    "    )\n",
    "    \n",
    "    return component1.outputs\n",
    "\n",
    "test_pipeline = sample_pipeline()"
   ]
  },
  {
   "cell_type": "code",
   "execution_count": null,
   "metadata": {},
   "outputs": [],
   "source": [
    "test_pipeline.validate()"
   ]
  },
  {
   "cell_type": "code",
   "execution_count": null,
   "metadata": {},
   "outputs": [],
   "source": [
    "run = test_pipeline.submit(\n",
    "    experiment_name='gdal_sample_experiment'\n",
    ")\n",
    "run.wait_for_completion()\n",
    "run"
   ]
  }
 ],
 "metadata": {},
 "nbformat": 4,
 "nbformat_minor": 4
}